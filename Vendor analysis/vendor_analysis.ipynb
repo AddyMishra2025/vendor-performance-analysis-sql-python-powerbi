{
 "cells": [
  {
   "cell_type": "code",
   "execution_count": 10,
   "id": "037cd081",
   "metadata": {},
   "outputs": [
    {
     "name": "stdout",
     "output_type": "stream",
     "text": [
      "Python executable: /Users/adyasamishra/python-playground/Vendor analysis/.venv/bin/python\n",
      "Now in: /Users/adyasamishra/python-playground/Vendor analysis\n",
      "DATA_DIR exists: True\n",
      "CSV files: ['begin_inventory.csv', 'end_inventory.csv', 'purchase_prices.csv', 'purchases.csv', 'sales.csv', 'vendor_invoice.csv']\n"
     ]
    }
   ],
   "source": [
    "import os, sys\n",
    "from pathlib import Path\n",
    "\n",
    "# 1) Check which Python your notebook is using (should be inside .venv)\n",
    "print(\"Python executable:\", sys.executable)\n",
    "\n",
    "# 2) Point the notebook at your project folder explicitly\n",
    "PROJECT_DIR = Path(\"/Users/adyasamishra/python-playground/Vendor analysis\").resolve()\n",
    "os.chdir(PROJECT_DIR)\n",
    "print(\"Now in:\", Path.cwd())\n",
    "\n",
    "# 3) Verify the data folder and list CSVs\n",
    "DATA_DIR = PROJECT_DIR / \"data\"\n",
    "print(\"DATA_DIR exists:\", DATA_DIR.exists())\n",
    "print(\"CSV files:\", sorted(p.name for p in DATA_DIR.glob(\"*.csv\")))\n"
   ]
  },
  {
   "cell_type": "code",
   "execution_count": 25,
   "id": "efc86c44",
   "metadata": {},
   "outputs": [],
   "source": [
    "# If you see \"ModuleNotFoundError\", run this once:\n",
    "# %pip install pandas sqlalchemy --quiet\n",
    "\n",
    "import pandas as pd\n",
    "from pathlib import Path\n",
    "from sqlalchemy import create_engine\n",
    "import logging\n"
   ]
  },
  {
   "cell_type": "code",
   "execution_count": 27,
   "id": "1172c901",
   "metadata": {},
   "outputs": [
    {
     "name": "stdout",
     "output_type": "stream",
     "text": [
      "2025-09-26 19:09:14,809 | INFO | Logger ready\n"
     ]
    }
   ],
   "source": [
    "import logging, sys\n",
    "from pathlib import Path\n",
    "\n",
    "# make sure the folder exists\n",
    "Path(\"logs\").mkdir(exist_ok=True)\n",
    "\n",
    "# simple config: write to logs/run.log + also show in the notebook output\n",
    "logging.basicConfig(\n",
    "    level=logging.INFO,\n",
    "    format=\"%(asctime)s | %(levelname)s | %(message)s\",\n",
    "    handlers=[\n",
    "        logging.FileHandler(\"logs/run.log\", encoding=\"utf-8\"),\n",
    "        logging.StreamHandler(sys.stdout),\n",
    "    ],\n",
    ")\n",
    "\n",
    "logging.info(\"Logger ready\")\n"
   ]
  },
  {
   "cell_type": "code",
   "execution_count": 28,
   "id": "224e5a03",
   "metadata": {},
   "outputs": [
    {
     "name": "stdout",
     "output_type": "stream",
     "text": [
      "2025-09-26 19:10:47,505 | INFO | Starting CSV ingest\n",
      "2025-09-26 19:10:47,515 | INFO | Reading begin_inventory.csv\n",
      "2025-09-26 19:10:47,817 | INFO | begin_inventory.csv shape=(206529, 9)\n",
      "2025-09-26 19:10:49,608 | INFO | Wrote table 'begin_inventory' rows=206529\n",
      "2025-09-26 19:10:49,610 | INFO | Reading end_inventory.csv\n",
      "2025-09-26 19:10:49,830 | INFO | end_inventory.csv shape=(224489, 9)\n",
      "2025-09-26 19:10:50,740 | INFO | Wrote table 'end_inventory' rows=224489\n",
      "2025-09-26 19:10:50,741 | INFO | Reading purchase_prices.csv\n",
      "2025-09-26 19:10:50,758 | INFO | purchase_prices.csv shape=(12261, 9)\n",
      "2025-09-26 19:10:50,814 | INFO | Wrote table 'purchase_prices' rows=12261\n",
      "2025-09-26 19:10:50,814 | INFO | Reading purchases.csv\n",
      "2025-09-26 19:10:53,976 | INFO | purchases.csv shape=(2372474, 16)\n",
      "2025-09-26 19:11:22,404 | INFO | Wrote table 'purchases' rows=2372474\n",
      "2025-09-26 19:11:22,442 | INFO | Reading sales.csv\n",
      "2025-09-26 19:11:35,198 | INFO | sales.csv shape=(12825363, 14)\n",
      "2025-09-26 19:26:17,599 | INFO | Wrote table 'sales' rows=12825363\n",
      "2025-09-26 19:26:17,640 | INFO | Reading vendor_invoice.csv\n",
      "2025-09-26 19:26:18,888 | INFO | vendor_invoice.csv shape=(5543, 10)\n",
      "2025-09-26 19:26:18,968 | INFO | Wrote table 'vendor_invoice' rows=5543\n",
      "2025-09-26 19:26:18,976 | INFO | CSV ingest completed\n"
     ]
    }
   ],
   "source": [
    "import pandas as pd\n",
    "from pathlib import Path\n",
    "import logging\n",
    "\n",
    "DATA_DIR = Path(\"data\")\n",
    "\n",
    "logging.info(\"Starting CSV ingest\")\n",
    "\n",
    "for f in sorted(DATA_DIR.glob(\"*.csv\")):\n",
    "    try:\n",
    "        logging.info(f\"Reading {f.name}\")\n",
    "        df = pd.read_csv(f)\n",
    "        logging.info(f\"{f.name} shape={df.shape}\")\n",
    "        df.to_sql(f.stem, engine, if_exists=\"replace\", index=False)\n",
    "        logging.info(f\"Wrote table '{f.stem}' rows={len(df)}\")\n",
    "    except Exception:\n",
    "        logging.exception(f\"FAILED on {f.name}\")\n",
    "\n",
    "logging.info(\"CSV ingest completed\")\n"
   ]
  },
  {
   "cell_type": "code",
   "execution_count": 17,
   "id": "b6950c43",
   "metadata": {},
   "outputs": [],
   "source": [
    "# 1) Create/open the SQLite database file in your project folder\n",
    "engine = create_engine('sqlite:///inventory.db')"
   ]
  },
  {
   "cell_type": "code",
   "execution_count": 18,
   "id": "b0b7cf95",
   "metadata": {},
   "outputs": [
    {
     "name": "stdout",
     "output_type": "stream",
     "text": [
      "Found CSVs:\n",
      " - begin_inventory.csv\n",
      " - end_inventory.csv\n",
      " - purchase_prices.csv\n",
      " - purchases.csv\n",
      " - sales.csv\n",
      " - vendor_invoice.csv\n"
     ]
    }
   ],
   "source": [
    "# 2) Point to the data folder\n",
    "DATA_DIR = Path(\"data\")\n",
    "print(\"Found CSVs:\")\n",
    "for f in sorted(DATA_DIR.glob(\"*.csv\")):\n",
    "    print(\" -\", f.name)"
   ]
  },
  {
   "cell_type": "code",
   "execution_count": 20,
   "id": "320eac3a",
   "metadata": {},
   "outputs": [],
   "source": [
    "# 3) Helper to write a DataFrame as a SQL table\n",
    "def ingest_db(df: pd.DataFrame, table_name: str, engine):\n",
    "    df.to_sql(table_name, con=engine, if_exists='replace', index=False)\n",
    "    print(f\" → wrote table '{table_name}' with {len(df):,} rows\")"
   ]
  },
  {
   "cell_type": "code",
   "execution_count": 21,
   "id": "e735ef3e",
   "metadata": {},
   "outputs": [
    {
     "name": "stdout",
     "output_type": "stream",
     "text": [
      "begin_inventory.csv (206529, 9)\n",
      " → wrote table 'begin_inventory' with 206,529 rows\n",
      "end_inventory.csv (224489, 9)\n",
      " → wrote table 'end_inventory' with 224,489 rows\n",
      "purchase_prices.csv (12261, 9)\n",
      " → wrote table 'purchase_prices' with 12,261 rows\n",
      "purchases.csv (2372474, 16)\n",
      " → wrote table 'purchases' with 2,372,474 rows\n",
      "sales.csv (12825363, 14)\n",
      " → wrote table 'sales' with 12,825,363 rows\n",
      "vendor_invoice.csv (5543, 10)\n",
      " → wrote table 'vendor_invoice' with 5,543 rows\n"
     ]
    }
   ],
   "source": [
    "# 4) Loop through all CSVs and ingest each as a table (filename -> table name)\n",
    "for f in sorted(DATA_DIR.glob(\"*.csv\")):\n",
    "    df = pd.read_csv(f)\n",
    "    print(f.name, df.shape)\n",
    "    ingest_db(df, f.stem, engine)   # f.stem is filename without .csv\n"
   ]
  },
  {
   "cell_type": "code",
   "execution_count": 22,
   "id": "9bfe09cb",
   "metadata": {},
   "outputs": [
    {
     "data": {
      "application/vnd.microsoft.datawrangler.viewer.v0+json": {
       "columns": [
        {
         "name": "index",
         "rawType": "int64",
         "type": "integer"
        },
        {
         "name": "name",
         "rawType": "object",
         "type": "string"
        }
       ],
       "ref": "d9379a28-1769-4795-a7fb-14cbf82c08ca",
       "rows": [
        [
         "0",
         "begin_inventory"
        ],
        [
         "1",
         "end_inventory"
        ],
        [
         "2",
         "purchase_prices"
        ],
        [
         "3",
         "purchases"
        ],
        [
         "4",
         "sales"
        ],
        [
         "5",
         "vendor_invoice"
        ]
       ],
       "shape": {
        "columns": 1,
        "rows": 6
       }
      },
      "text/html": [
       "<div>\n",
       "<style scoped>\n",
       "    .dataframe tbody tr th:only-of-type {\n",
       "        vertical-align: middle;\n",
       "    }\n",
       "\n",
       "    .dataframe tbody tr th {\n",
       "        vertical-align: top;\n",
       "    }\n",
       "\n",
       "    .dataframe thead th {\n",
       "        text-align: right;\n",
       "    }\n",
       "</style>\n",
       "<table border=\"1\" class=\"dataframe\">\n",
       "  <thead>\n",
       "    <tr style=\"text-align: right;\">\n",
       "      <th></th>\n",
       "      <th>name</th>\n",
       "    </tr>\n",
       "  </thead>\n",
       "  <tbody>\n",
       "    <tr>\n",
       "      <th>0</th>\n",
       "      <td>begin_inventory</td>\n",
       "    </tr>\n",
       "    <tr>\n",
       "      <th>1</th>\n",
       "      <td>end_inventory</td>\n",
       "    </tr>\n",
       "    <tr>\n",
       "      <th>2</th>\n",
       "      <td>purchase_prices</td>\n",
       "    </tr>\n",
       "    <tr>\n",
       "      <th>3</th>\n",
       "      <td>purchases</td>\n",
       "    </tr>\n",
       "    <tr>\n",
       "      <th>4</th>\n",
       "      <td>sales</td>\n",
       "    </tr>\n",
       "    <tr>\n",
       "      <th>5</th>\n",
       "      <td>vendor_invoice</td>\n",
       "    </tr>\n",
       "  </tbody>\n",
       "</table>\n",
       "</div>"
      ],
      "text/plain": [
       "              name\n",
       "0  begin_inventory\n",
       "1    end_inventory\n",
       "2  purchase_prices\n",
       "3        purchases\n",
       "4            sales\n",
       "5   vendor_invoice"
      ]
     },
     "execution_count": 22,
     "metadata": {},
     "output_type": "execute_result"
    }
   ],
   "source": [
    "import pandas as pd\n",
    "\n",
    "tables = pd.read_sql(\n",
    "    \"SELECT name FROM sqlite_master WHERE type='table' AND name NOT LIKE 'sqlite_%' ORDER BY name;\",\n",
    "    engine\n",
    ")\n",
    "tables\n"
   ]
  },
  {
   "cell_type": "code",
   "execution_count": 24,
   "id": "1145c4e4",
   "metadata": {},
   "outputs": [
    {
     "data": {
      "application/vnd.microsoft.datawrangler.viewer.v0+json": {
       "columns": [
        {
         "name": "index",
         "rawType": "int64",
         "type": "integer"
        },
        {
         "name": "cid",
         "rawType": "int64",
         "type": "integer"
        },
        {
         "name": "name",
         "rawType": "object",
         "type": "string"
        },
        {
         "name": "type",
         "rawType": "object",
         "type": "string"
        },
        {
         "name": "notnull",
         "rawType": "int64",
         "type": "integer"
        },
        {
         "name": "dflt_value",
         "rawType": "object",
         "type": "unknown"
        },
        {
         "name": "pk",
         "rawType": "int64",
         "type": "integer"
        }
       ],
       "ref": "c087b2fe-50a9-4f96-967a-d0c7289b131e",
       "rows": [
        [
         "0",
         "0",
         "InventoryId",
         "TEXT",
         "0",
         null,
         "0"
        ],
        [
         "1",
         "1",
         "Store",
         "BIGINT",
         "0",
         null,
         "0"
        ],
        [
         "2",
         "2",
         "Brand",
         "BIGINT",
         "0",
         null,
         "0"
        ],
        [
         "3",
         "3",
         "Description",
         "TEXT",
         "0",
         null,
         "0"
        ],
        [
         "4",
         "4",
         "Size",
         "TEXT",
         "0",
         null,
         "0"
        ],
        [
         "5",
         "5",
         "VendorNumber",
         "BIGINT",
         "0",
         null,
         "0"
        ],
        [
         "6",
         "6",
         "VendorName",
         "TEXT",
         "0",
         null,
         "0"
        ],
        [
         "7",
         "7",
         "PONumber",
         "BIGINT",
         "0",
         null,
         "0"
        ],
        [
         "8",
         "8",
         "PODate",
         "TEXT",
         "0",
         null,
         "0"
        ],
        [
         "9",
         "9",
         "ReceivingDate",
         "TEXT",
         "0",
         null,
         "0"
        ],
        [
         "10",
         "10",
         "InvoiceDate",
         "TEXT",
         "0",
         null,
         "0"
        ],
        [
         "11",
         "11",
         "PayDate",
         "TEXT",
         "0",
         null,
         "0"
        ],
        [
         "12",
         "12",
         "PurchasePrice",
         "FLOAT",
         "0",
         null,
         "0"
        ],
        [
         "13",
         "13",
         "Quantity",
         "BIGINT",
         "0",
         null,
         "0"
        ],
        [
         "14",
         "14",
         "Dollars",
         "FLOAT",
         "0",
         null,
         "0"
        ],
        [
         "15",
         "15",
         "Classification",
         "BIGINT",
         "0",
         null,
         "0"
        ]
       ],
       "shape": {
        "columns": 6,
        "rows": 16
       }
      },
      "text/html": [
       "<div>\n",
       "<style scoped>\n",
       "    .dataframe tbody tr th:only-of-type {\n",
       "        vertical-align: middle;\n",
       "    }\n",
       "\n",
       "    .dataframe tbody tr th {\n",
       "        vertical-align: top;\n",
       "    }\n",
       "\n",
       "    .dataframe thead th {\n",
       "        text-align: right;\n",
       "    }\n",
       "</style>\n",
       "<table border=\"1\" class=\"dataframe\">\n",
       "  <thead>\n",
       "    <tr style=\"text-align: right;\">\n",
       "      <th></th>\n",
       "      <th>cid</th>\n",
       "      <th>name</th>\n",
       "      <th>type</th>\n",
       "      <th>notnull</th>\n",
       "      <th>dflt_value</th>\n",
       "      <th>pk</th>\n",
       "    </tr>\n",
       "  </thead>\n",
       "  <tbody>\n",
       "    <tr>\n",
       "      <th>0</th>\n",
       "      <td>0</td>\n",
       "      <td>InventoryId</td>\n",
       "      <td>TEXT</td>\n",
       "      <td>0</td>\n",
       "      <td>None</td>\n",
       "      <td>0</td>\n",
       "    </tr>\n",
       "    <tr>\n",
       "      <th>1</th>\n",
       "      <td>1</td>\n",
       "      <td>Store</td>\n",
       "      <td>BIGINT</td>\n",
       "      <td>0</td>\n",
       "      <td>None</td>\n",
       "      <td>0</td>\n",
       "    </tr>\n",
       "    <tr>\n",
       "      <th>2</th>\n",
       "      <td>2</td>\n",
       "      <td>Brand</td>\n",
       "      <td>BIGINT</td>\n",
       "      <td>0</td>\n",
       "      <td>None</td>\n",
       "      <td>0</td>\n",
       "    </tr>\n",
       "    <tr>\n",
       "      <th>3</th>\n",
       "      <td>3</td>\n",
       "      <td>Description</td>\n",
       "      <td>TEXT</td>\n",
       "      <td>0</td>\n",
       "      <td>None</td>\n",
       "      <td>0</td>\n",
       "    </tr>\n",
       "    <tr>\n",
       "      <th>4</th>\n",
       "      <td>4</td>\n",
       "      <td>Size</td>\n",
       "      <td>TEXT</td>\n",
       "      <td>0</td>\n",
       "      <td>None</td>\n",
       "      <td>0</td>\n",
       "    </tr>\n",
       "    <tr>\n",
       "      <th>5</th>\n",
       "      <td>5</td>\n",
       "      <td>VendorNumber</td>\n",
       "      <td>BIGINT</td>\n",
       "      <td>0</td>\n",
       "      <td>None</td>\n",
       "      <td>0</td>\n",
       "    </tr>\n",
       "    <tr>\n",
       "      <th>6</th>\n",
       "      <td>6</td>\n",
       "      <td>VendorName</td>\n",
       "      <td>TEXT</td>\n",
       "      <td>0</td>\n",
       "      <td>None</td>\n",
       "      <td>0</td>\n",
       "    </tr>\n",
       "    <tr>\n",
       "      <th>7</th>\n",
       "      <td>7</td>\n",
       "      <td>PONumber</td>\n",
       "      <td>BIGINT</td>\n",
       "      <td>0</td>\n",
       "      <td>None</td>\n",
       "      <td>0</td>\n",
       "    </tr>\n",
       "    <tr>\n",
       "      <th>8</th>\n",
       "      <td>8</td>\n",
       "      <td>PODate</td>\n",
       "      <td>TEXT</td>\n",
       "      <td>0</td>\n",
       "      <td>None</td>\n",
       "      <td>0</td>\n",
       "    </tr>\n",
       "    <tr>\n",
       "      <th>9</th>\n",
       "      <td>9</td>\n",
       "      <td>ReceivingDate</td>\n",
       "      <td>TEXT</td>\n",
       "      <td>0</td>\n",
       "      <td>None</td>\n",
       "      <td>0</td>\n",
       "    </tr>\n",
       "    <tr>\n",
       "      <th>10</th>\n",
       "      <td>10</td>\n",
       "      <td>InvoiceDate</td>\n",
       "      <td>TEXT</td>\n",
       "      <td>0</td>\n",
       "      <td>None</td>\n",
       "      <td>0</td>\n",
       "    </tr>\n",
       "    <tr>\n",
       "      <th>11</th>\n",
       "      <td>11</td>\n",
       "      <td>PayDate</td>\n",
       "      <td>TEXT</td>\n",
       "      <td>0</td>\n",
       "      <td>None</td>\n",
       "      <td>0</td>\n",
       "    </tr>\n",
       "    <tr>\n",
       "      <th>12</th>\n",
       "      <td>12</td>\n",
       "      <td>PurchasePrice</td>\n",
       "      <td>FLOAT</td>\n",
       "      <td>0</td>\n",
       "      <td>None</td>\n",
       "      <td>0</td>\n",
       "    </tr>\n",
       "    <tr>\n",
       "      <th>13</th>\n",
       "      <td>13</td>\n",
       "      <td>Quantity</td>\n",
       "      <td>BIGINT</td>\n",
       "      <td>0</td>\n",
       "      <td>None</td>\n",
       "      <td>0</td>\n",
       "    </tr>\n",
       "    <tr>\n",
       "      <th>14</th>\n",
       "      <td>14</td>\n",
       "      <td>Dollars</td>\n",
       "      <td>FLOAT</td>\n",
       "      <td>0</td>\n",
       "      <td>None</td>\n",
       "      <td>0</td>\n",
       "    </tr>\n",
       "    <tr>\n",
       "      <th>15</th>\n",
       "      <td>15</td>\n",
       "      <td>Classification</td>\n",
       "      <td>BIGINT</td>\n",
       "      <td>0</td>\n",
       "      <td>None</td>\n",
       "      <td>0</td>\n",
       "    </tr>\n",
       "  </tbody>\n",
       "</table>\n",
       "</div>"
      ],
      "text/plain": [
       "    cid            name    type  notnull dflt_value  pk\n",
       "0     0     InventoryId    TEXT        0       None   0\n",
       "1     1           Store  BIGINT        0       None   0\n",
       "2     2           Brand  BIGINT        0       None   0\n",
       "3     3     Description    TEXT        0       None   0\n",
       "4     4            Size    TEXT        0       None   0\n",
       "5     5    VendorNumber  BIGINT        0       None   0\n",
       "6     6      VendorName    TEXT        0       None   0\n",
       "7     7        PONumber  BIGINT        0       None   0\n",
       "8     8          PODate    TEXT        0       None   0\n",
       "9     9   ReceivingDate    TEXT        0       None   0\n",
       "10   10     InvoiceDate    TEXT        0       None   0\n",
       "11   11         PayDate    TEXT        0       None   0\n",
       "12   12   PurchasePrice   FLOAT        0       None   0\n",
       "13   13        Quantity  BIGINT        0       None   0\n",
       "14   14         Dollars   FLOAT        0       None   0\n",
       "15   15  Classification  BIGINT        0       None   0"
      ]
     },
     "execution_count": 24,
     "metadata": {},
     "output_type": "execute_result"
    }
   ],
   "source": [
    "import pandas as pd\n",
    "pd.read_sql(\"PRAGMA table_info(purchases);\", engine)\n"
   ]
  },
  {
   "cell_type": "code",
   "execution_count": 30,
   "id": "34cf0eac",
   "metadata": {},
   "outputs": [],
   "source": [
    "import os, time, logging\n",
    "import pandas as pd\n",
    "from sqlalchemy import create_engine\n",
    "\n",
    "# make sure logs/ exists\n",
    "os.makedirs(\"logs\", exist_ok=True)\n",
    "\n",
    "# simple file logger, same as video\n",
    "logging.basicConfig(\n",
    "    filename=\"logs/ingestion_db.log\",\n",
    "    level=logging.DEBUG,\n",
    "    format=\"%(asctime)s - %(levelname)s - %(message)s\",\n",
    "    filemode=\"a\",\n",
    "    force=True,   # important in notebooks so it resets any previous logging config\n",
    ")\n",
    "\n",
    "logging.info(\"Logging configured\")\n"
   ]
  },
  {
   "cell_type": "code",
   "execution_count": 31,
   "id": "c58e6aeb",
   "metadata": {},
   "outputs": [],
   "source": [
    "engine = create_engine(\"sqlite:///inventory.db\")\n"
   ]
  },
  {
   "cell_type": "code",
   "execution_count": 32,
   "id": "4aa9e4f2",
   "metadata": {},
   "outputs": [],
   "source": [
    "def ingest_db(df: pd.DataFrame, table_name: str, engine):\n",
    "    \"\"\"Write a DataFrame into SQLite as `table_name` (replace if exists).\"\"\"\n",
    "    df.to_sql(table_name, con=engine, if_exists=\"replace\", index=False)\n",
    "\n",
    "def load_raw_data(data_dir: str = \"data\"):\n",
    "    \"\"\"Load all CSVs from `data_dir` into the DB, logging each file and total time.\"\"\"\n",
    "    start = time.time()\n",
    "    for file in os.listdir(data_dir):\n",
    "        if file.endswith(\".csv\"):\n",
    "            try:\n",
    "                logging.info(\"Ingesting %s in db\", file)\n",
    "                df = pd.read_csv(os.path.join(data_dir, file))\n",
    "                print(df.shape)  # the video prints the shape to the cell output\n",
    "                ingest_db(df, file[:-4], engine)  # strip \".csv\" to use as table name\n",
    "                logging.info(\"Completed %s | rows=%d\", file, len(df))\n",
    "            except Exception:\n",
    "                logging.exception(\"FAILED on %s\", file)\n",
    "    total_min = (time.time() - start) / 60\n",
    "    logging.info(\"========= Ingestion Complete =========\")\n",
    "    logging.info(\"Total Time Taken: %.2f minutes\", total_min)\n"
   ]
  },
  {
   "cell_type": "code",
   "execution_count": 33,
   "id": "8b50b71a",
   "metadata": {},
   "outputs": [
    {
     "name": "stdout",
     "output_type": "stream",
     "text": [
      "(2372474, 16)\n",
      "(12261, 9)\n",
      "(5543, 10)\n",
      "(206529, 9)\n",
      "(224489, 9)\n",
      "(12825363, 14)\n"
     ]
    }
   ],
   "source": [
    "load_raw_data(\"data\")\n"
   ]
  },
  {
   "cell_type": "code",
   "execution_count": 34,
   "id": "3842e0cb",
   "metadata": {},
   "outputs": [
    {
     "data": {
      "application/vnd.microsoft.datawrangler.viewer.v0+json": {
       "columns": [
        {
         "name": "index",
         "rawType": "int64",
         "type": "integer"
        },
        {
         "name": "vendor_id",
         "rawType": "int64",
         "type": "integer"
        },
        {
         "name": "vendor_name",
         "rawType": "object",
         "type": "string"
        },
        {
         "name": "spend",
         "rawType": "float64",
         "type": "float"
        }
       ],
       "ref": "2486235f-258c-429b-92b4-b8cd8fb56e5c",
       "rows": [
        [
         "0",
         "3960",
         "DIAGEO NORTH AMERICA INC   ",
         "50959796.85"
        ],
        [
         "1",
         "4425",
         "MARTIGNETTI COMPANIES",
         "27821473.91"
        ],
        [
         "2",
         "12546",
         "JIM BEAM BRANDS COMPANY    ",
         "24203151.05"
        ],
        [
         "3",
         "17035",
         "PERNOD RICARD USA          ",
         "24124091.56"
        ],
        [
         "4",
         "480",
         "BACARDI USA INC            ",
         "17624378.72"
        ],
        [
         "5",
         "1392",
         "CONSTELLATION BRANDS INC   ",
         "15573917.9"
        ],
        [
         "6",
         "1128",
         "BROWN-FORMAN CORP          ",
         "13529433.08"
        ],
        [
         "7",
         "9165",
         "ULTRA BEVERAGE COMPANY LLP ",
         "13210613.93"
        ],
        [
         "8",
         "3252",
         "E & J GALLO WINERY         ",
         "12289608.09"
        ],
        [
         "9",
         "9552",
         "M S WALKER INC             ",
         "10935817.3"
        ],
        [
         "10",
         "8004",
         "SAZERAC CO INC             ",
         "9916770.26"
        ],
        [
         "11",
         "8112",
         "MOET HENNESSY USA INC      ",
         "9472995.2"
        ],
        [
         "12",
         "7245",
         "PROXIMO SPIRITS INC.       ",
         "7588029.9"
        ],
        [
         "13",
         "3664",
         "WILLIAM GRANT & SONS INC   ",
         "5960744.35"
        ],
        [
         "14",
         "10754",
         "PERFECTA WINES             ",
         "5665501.53"
        ],
        [
         "15",
         "9815",
         "WINE GROUP INC             ",
         "5258636.79"
        ],
        [
         "16",
         "11567",
         "CAMPARI AMERICA            ",
         "4141720.71"
        ],
        [
         "17",
         "2000",
         "SOUTHERN WINE & SPIRITS NE ",
         "3699813.46"
        ],
        [
         "18",
         "8664",
         "STOLI GROUP,(USA) LLC      ",
         "3666478.72"
        ],
        [
         "19",
         "660",
         "SAZERAC NORTH AMERICA INC. ",
         "3537977.55"
        ]
       ],
       "shape": {
        "columns": 3,
        "rows": 20
       }
      },
      "text/html": [
       "<div>\n",
       "<style scoped>\n",
       "    .dataframe tbody tr th:only-of-type {\n",
       "        vertical-align: middle;\n",
       "    }\n",
       "\n",
       "    .dataframe tbody tr th {\n",
       "        vertical-align: top;\n",
       "    }\n",
       "\n",
       "    .dataframe thead th {\n",
       "        text-align: right;\n",
       "    }\n",
       "</style>\n",
       "<table border=\"1\" class=\"dataframe\">\n",
       "  <thead>\n",
       "    <tr style=\"text-align: right;\">\n",
       "      <th></th>\n",
       "      <th>vendor_id</th>\n",
       "      <th>vendor_name</th>\n",
       "      <th>spend</th>\n",
       "    </tr>\n",
       "  </thead>\n",
       "  <tbody>\n",
       "    <tr>\n",
       "      <th>0</th>\n",
       "      <td>3960</td>\n",
       "      <td>DIAGEO NORTH AMERICA INC</td>\n",
       "      <td>50959796.85</td>\n",
       "    </tr>\n",
       "    <tr>\n",
       "      <th>1</th>\n",
       "      <td>4425</td>\n",
       "      <td>MARTIGNETTI COMPANIES</td>\n",
       "      <td>27821473.91</td>\n",
       "    </tr>\n",
       "    <tr>\n",
       "      <th>2</th>\n",
       "      <td>12546</td>\n",
       "      <td>JIM BEAM BRANDS COMPANY</td>\n",
       "      <td>24203151.05</td>\n",
       "    </tr>\n",
       "    <tr>\n",
       "      <th>3</th>\n",
       "      <td>17035</td>\n",
       "      <td>PERNOD RICARD USA</td>\n",
       "      <td>24124091.56</td>\n",
       "    </tr>\n",
       "    <tr>\n",
       "      <th>4</th>\n",
       "      <td>480</td>\n",
       "      <td>BACARDI USA INC</td>\n",
       "      <td>17624378.72</td>\n",
       "    </tr>\n",
       "    <tr>\n",
       "      <th>5</th>\n",
       "      <td>1392</td>\n",
       "      <td>CONSTELLATION BRANDS INC</td>\n",
       "      <td>15573917.90</td>\n",
       "    </tr>\n",
       "    <tr>\n",
       "      <th>6</th>\n",
       "      <td>1128</td>\n",
       "      <td>BROWN-FORMAN CORP</td>\n",
       "      <td>13529433.08</td>\n",
       "    </tr>\n",
       "    <tr>\n",
       "      <th>7</th>\n",
       "      <td>9165</td>\n",
       "      <td>ULTRA BEVERAGE COMPANY LLP</td>\n",
       "      <td>13210613.93</td>\n",
       "    </tr>\n",
       "    <tr>\n",
       "      <th>8</th>\n",
       "      <td>3252</td>\n",
       "      <td>E &amp; J GALLO WINERY</td>\n",
       "      <td>12289608.09</td>\n",
       "    </tr>\n",
       "    <tr>\n",
       "      <th>9</th>\n",
       "      <td>9552</td>\n",
       "      <td>M S WALKER INC</td>\n",
       "      <td>10935817.30</td>\n",
       "    </tr>\n",
       "    <tr>\n",
       "      <th>10</th>\n",
       "      <td>8004</td>\n",
       "      <td>SAZERAC CO INC</td>\n",
       "      <td>9916770.26</td>\n",
       "    </tr>\n",
       "    <tr>\n",
       "      <th>11</th>\n",
       "      <td>8112</td>\n",
       "      <td>MOET HENNESSY USA INC</td>\n",
       "      <td>9472995.20</td>\n",
       "    </tr>\n",
       "    <tr>\n",
       "      <th>12</th>\n",
       "      <td>7245</td>\n",
       "      <td>PROXIMO SPIRITS INC.</td>\n",
       "      <td>7588029.90</td>\n",
       "    </tr>\n",
       "    <tr>\n",
       "      <th>13</th>\n",
       "      <td>3664</td>\n",
       "      <td>WILLIAM GRANT &amp; SONS INC</td>\n",
       "      <td>5960744.35</td>\n",
       "    </tr>\n",
       "    <tr>\n",
       "      <th>14</th>\n",
       "      <td>10754</td>\n",
       "      <td>PERFECTA WINES</td>\n",
       "      <td>5665501.53</td>\n",
       "    </tr>\n",
       "    <tr>\n",
       "      <th>15</th>\n",
       "      <td>9815</td>\n",
       "      <td>WINE GROUP INC</td>\n",
       "      <td>5258636.79</td>\n",
       "    </tr>\n",
       "    <tr>\n",
       "      <th>16</th>\n",
       "      <td>11567</td>\n",
       "      <td>CAMPARI AMERICA</td>\n",
       "      <td>4141720.71</td>\n",
       "    </tr>\n",
       "    <tr>\n",
       "      <th>17</th>\n",
       "      <td>2000</td>\n",
       "      <td>SOUTHERN WINE &amp; SPIRITS NE</td>\n",
       "      <td>3699813.46</td>\n",
       "    </tr>\n",
       "    <tr>\n",
       "      <th>18</th>\n",
       "      <td>8664</td>\n",
       "      <td>STOLI GROUP,(USA) LLC</td>\n",
       "      <td>3666478.72</td>\n",
       "    </tr>\n",
       "    <tr>\n",
       "      <th>19</th>\n",
       "      <td>660</td>\n",
       "      <td>SAZERAC NORTH AMERICA INC.</td>\n",
       "      <td>3537977.55</td>\n",
       "    </tr>\n",
       "  </tbody>\n",
       "</table>\n",
       "</div>"
      ],
      "text/plain": [
       "    vendor_id                  vendor_name        spend\n",
       "0        3960  DIAGEO NORTH AMERICA INC     50959796.85\n",
       "1        4425        MARTIGNETTI COMPANIES  27821473.91\n",
       "2       12546  JIM BEAM BRANDS COMPANY      24203151.05\n",
       "3       17035  PERNOD RICARD USA            24124091.56\n",
       "4         480  BACARDI USA INC              17624378.72\n",
       "5        1392  CONSTELLATION BRANDS INC     15573917.90\n",
       "6        1128  BROWN-FORMAN CORP            13529433.08\n",
       "7        9165  ULTRA BEVERAGE COMPANY LLP   13210613.93\n",
       "8        3252  E & J GALLO WINERY           12289608.09\n",
       "9        9552  M S WALKER INC               10935817.30\n",
       "10       8004  SAZERAC CO INC                9916770.26\n",
       "11       8112  MOET HENNESSY USA INC         9472995.20\n",
       "12       7245  PROXIMO SPIRITS INC.          7588029.90\n",
       "13       3664  WILLIAM GRANT & SONS INC      5960744.35\n",
       "14      10754  PERFECTA WINES                5665501.53\n",
       "15       9815  WINE GROUP INC                5258636.79\n",
       "16      11567  CAMPARI AMERICA               4141720.71\n",
       "17       2000  SOUTHERN WINE & SPIRITS NE    3699813.46\n",
       "18       8664  STOLI GROUP,(USA) LLC         3666478.72\n",
       "19        660  SAZERAC NORTH AMERICA INC.    3537977.55"
      ]
     },
     "execution_count": 34,
     "metadata": {},
     "output_type": "execute_result"
    }
   ],
   "source": [
    "import pandas as pd\n",
    "import logging\n",
    "from pathlib import Path\n",
    "\n",
    "# KPI: Top spend by vendor\n",
    "logging.info(\"KPI: Top spend by vendor — start\")\n",
    "\n",
    "sql = \"\"\"\n",
    "SELECT\n",
    "  \"VendorNumber\" AS vendor_id,\n",
    "  \"VendorName\"   AS vendor_name,\n",
    "  SUM(\"Dollars\") AS spend\n",
    "FROM purchases\n",
    "GROUP BY \"VendorNumber\",\"VendorName\"\n",
    "ORDER BY spend DESC\n",
    "LIMIT 20;\n",
    "\"\"\"\n",
    "\n",
    "spend_by_vendor = pd.read_sql(sql, engine)\n",
    "logging.info(\"KPI: Top spend by vendor — done | rows=%d\", len(spend_by_vendor))\n",
    "\n",
    "# Save for your dashboard later\n",
    "Path(\"outputs\").mkdir(exist_ok=True)\n",
    "spend_by_vendor.to_csv(\"outputs/spend_by_vendor.csv\", index=False)\n",
    "logging.info(\"Saved outputs/spend_by_vendor.csv\")\n",
    "\n",
    "spend_by_vendor  # show in the notebook\n"
   ]
  }
 ],
 "metadata": {
  "kernelspec": {
   "display_name": ".venv (3.13.5)",
   "language": "python",
   "name": "python3"
  },
  "language_info": {
   "codemirror_mode": {
    "name": "ipython",
    "version": 3
   },
   "file_extension": ".py",
   "mimetype": "text/x-python",
   "name": "python",
   "nbconvert_exporter": "python",
   "pygments_lexer": "ipython3",
   "version": "3.13.5"
  }
 },
 "nbformat": 4,
 "nbformat_minor": 5
}
